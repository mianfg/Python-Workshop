{
 "cells": [
  {
   "cell_type": "markdown",
   "metadata": {},
   "source": [
    "![Header](./resources/exercise-01/00-header.png)\n",
    "\n",
    "> 🧑‍💻 Author: Miguel Ángel Fernández (<miguelaf@cisco.com>)\n",
    ">\n",
    "> Last update: March 21, 2023 (revision 0)\n",
    ">\n",
    "> _For any questions or comments, do not hesitate to contact me!_\n",
    "\n",
    "\n",
    "# Exercise 1 - Executing Python code in a Jupyter Notebook\n",
    "\n",
    "We are really excited that you showed up during the first session of our new Python workshop! This exercise will teach you how to install and use Jupyter Notebook to execute your very first Python scripts. Apart from this, you will learn some basic Python things that we will better understand in the following sessions.\n",
    "\n",
    "> ### What you will learn\n",
    ">\n",
    "> * Use Jupyter Notebook\n",
    "> * Console I/O: `print`, `input`\n",
    "> * Variable assignment\n",
    "> * How errors can happen\n",
    "> * Other ways of using Python!\n",
    "\n",
    "This is a long notebook, we know. You can use the following table of contents to go to where you need to go. Each section is independent, so you can start executing the first block of code of each section without having to bother if you executed the previous code blocks.\n",
    "\n",
    "## Table of contents\n",
    "\n",
    "> 👨‍💻 During the workshop, we will have seen sections 1 and 2 of this notebook. You can refresh them or go straight to section 3, which is where the cool programming starts!\n",
    "\n",
    "1. [Install Jupyter Notebook](#1.-Install-Jupyter-Notebook). Instructions to set up Jupyter Notebook.\n",
    "2. [Jupyter Notebook basics](#2.-Jupyter-Notebook-basics). If you need a\n",
    "3. [Hello World!](#)\n",
    "4. [A customized Hello World!](#)\n",
    "5. **[Bonus]** [Other ways of using Python](#)"
   ]
  },
  {
   "cell_type": "markdown",
   "metadata": {},
   "source": [
    "## 1. Install Jupyter Notebook\n",
    "\n",
    "First things first, let's talk about what a Jupyter **notebook** is, and how you can start using them.\n",
    "\n",
    "A notebook is ___. They use the file extension `.ipynb` and yes, this is one of them!"
   ]
  },
  {
   "cell_type": "markdown",
   "metadata": {},
   "source": [
    "## 2. Jupyter Notebook basics\n",
    "\n",
    "![Jupyter Toolbar](./resources/exercise-01/01-jupyter_toolbar.png)\n",
    "\n",
    "1. **Save.**\n",
    "2. **Add block.**\n",
    "3. **Run block.**\n",
    "4. **Stop execution.**\n",
    "5. **Restart kernel.**\n",
    "6. **Restart kernel and rerun the whole notebook.**\n",
    "7. **Block type.**\n",
    "\n",
    "Once you open a notebook inside Jupyter, you will see something very similar to the image above: a toolbar that has everything you need to get started. Below, you will see the actual notebook.\n",
    "\n",
    "A notebook is composed of **blocks**. A block can be of two types:\n",
    "\n",
    "* A **code block** is a block of Python code, that can be executed.\n",
    "* A **Markdown block** is a block where text will be shown.\n",
    "\n",
    "To add a block, you can:\n",
    "\n",
    "1. Press the plus icon (**2**) in the toolbar. A block will be added after the one you are currently in (which is highlighted).\n",
    "2. Press `Shift`+`Enter` on the last block. The block will be executed or rendered (depending on the type), and a new block will be added at the end of the notebook.\n",
    "\n",
    "When you add a new block, it will be either of type _Code_ or _Markdown_. You can check which kind of block it is visually (code blocks have the `In [ ]:` prompt to the left), or using the dropdown (**6**). You can use this same dropdown to change the type of the current block (the one that is highlighted). You can also select the block by clicking **once** and press `Y` to turn it into a code block, and `M` to turn it into a Markdown block.\n",
    "\n",
    "To delete a block, you can:\n",
    "\n",
    "1. Click on Edit > Delete cells in the toolbar.\n",
    "2. Click on the block **once** and press `D` **twice**.\n",
    "\n",
    "Let's know more about these blocks!"
   ]
  },
  {
   "cell_type": "markdown",
   "metadata": {},
   "source": [
    "### Code blocks\n",
    "\n",
    "Let's start with code blocks. Code blocks are segments of Python code that can be executed. Each time a block is executed, its **state** will be saved, including variables, imports, and much more. In other words, code blocks are **dependent** on the order in which they are executed. Here are some examples of code blocks:\n",
    "\n",
    "![Code block](./resources/exercise-01/02-code_block.png)\n",
    "\n",
    "You can see code blocks always have `In [ ]:` to the left. To execute the code, simply click on Run (**3**) or use the shortcut `Shift`+`Enter`. The prompt `In [ ]:` will change and a sequence number will appear inside the brackets. This is useful, as it indicates whether the code block was executed, and in which order.\n",
    "\n",
    "Why don't you try? Execute the following code block:"
   ]
  },
  {
   "cell_type": "code",
   "execution_count": 1,
   "metadata": {},
   "outputs": [
    {
     "name": "stdout",
     "output_type": "stream",
     "text": [
      "This is the first code block I execute!\n"
     ]
    }
   ],
   "source": [
    "print('This is the first code block I execute!')"
   ]
  },
  {
   "cell_type": "markdown",
   "metadata": {},
   "source": [
    "Amazing! As you can see, code blocks are a nice way to execute Python code.\n",
    "\n",
    "Let's try something else. Why don't we try to see what is stored on the `message` variable?"
   ]
  },
  {
   "cell_type": "code",
   "execution_count": 2,
   "metadata": {},
   "outputs": [
    {
     "ename": "NameError",
     "evalue": "name 'message' is not defined",
     "output_type": "error",
     "traceback": [
      "\u001b[0;31m---------------------------------------------------------------------------\u001b[0m",
      "\u001b[0;31mNameError\u001b[0m                                 Traceback (most recent call last)",
      "Cell \u001b[0;32mIn[2], line 1\u001b[0m\n\u001b[0;32m----> 1\u001b[0m \u001b[43mmessage\u001b[49m\n",
      "\u001b[0;31mNameError\u001b[0m: name 'message' is not defined"
     ]
    }
   ],
   "source": [
    "message"
   ]
  },
  {
   "cell_type": "markdown",
   "metadata": {},
   "source": [
    "If you have executed the blocks sequentially and have not resetted the kernel (you will know how to do this later), you should see an error, as the variable was not yet defined. Let's define this variable with the message you want."
   ]
  },
  {
   "cell_type": "code",
   "execution_count": 3,
   "metadata": {},
   "outputs": [],
   "source": [
    "# type a message\n",
    "message = ''"
   ]
  },
  {
   "cell_type": "markdown",
   "metadata": {},
   "source": [
    "WIP"
   ]
  },
  {
   "cell_type": "markdown",
   "metadata": {},
   "source": [
    "## 3. Hello World!\n",
    "\n",
    "Let's start programming!\n",
    "\n",
    "When we start learning a new programming language, one basic thing we need to learn is how to display a message. In Python, this is done using the `print` function.\n",
    "\n",
    "> 💡 Key concept: **console output (the `print` function)**\n",
    "> \n",
    "> The `print` function has one mandatory argument: the text we want to display.\n",
    "\n",
    "Try inserting the message `Hello world!` inside the quotation marks (`''`). Then, execute the block of code."
   ]
  },
  {
   "cell_type": "code",
   "execution_count": 4,
   "metadata": {},
   "outputs": [
    {
     "name": "stdout",
     "output_type": "stream",
     "text": [
      "Hello world!\n"
     ]
    }
   ],
   "source": [
    "# our first hello to Python!\n",
    "print('Hello world!')"
   ]
  },
  {
   "cell_type": "markdown",
   "metadata": {},
   "source": [
    "You see what we did there? Executing the block showed the message you wanted to show. You can try replacing the message, and each time you execute the block the new message will be displayed in place of the previous one.\n",
    "\n",
    "Also, you can see that we have one line that the interpreter did not care much about. Lines starting with `#` are **comments**, and ignored by the Python interpreter.\n",
    "\n",
    "> 💡 Key concept: **comments**\n",
    ">\n",
    "> Every programming language enables you to comment your code. In Python, you can have single-line or multi-line comments:\n",
    "> - Single-line comments are lines of your code that start with `#`.\n",
    "> - If you want your comments to be several lines in length, you have to enclose them in `\"\"\"`.\n",
    "\n",
    "It is really important that you comment your code so you know what it does."
   ]
  },
  {
   "cell_type": "markdown",
   "metadata": {},
   "source": [
    "Now, let's try something new. We can try displaying the value of a **variable**. In programs, variables are used to store values.\n",
    "\n",
    "> 💡 Key concept: **variables**\n",
    ">\n",
    "> Variables are the names you give to computer memory locations which are used to store values in a computer program. In Python, you declare a variable by assigning a value to it using the assignment operator (`=`).\n",
    "\n",
    "Let's create a new variable, called `hello`, and assign a value to it: our hello world message. Execute the following block:"
   ]
  },
  {
   "cell_type": "code",
   "execution_count": 5,
   "metadata": {},
   "outputs": [],
   "source": [
    "hello = 'Hello world!'"
   ]
  },
  {
   "cell_type": "markdown",
   "metadata": {},
   "source": [
    "This block should have returned nothing. However, we now have our `hello` variable declared. You can see what is inside a variable by simply typing its name in a code block and executing it:"
   ]
  },
  {
   "cell_type": "code",
   "execution_count": 6,
   "metadata": {},
   "outputs": [
    {
     "data": {
      "text/plain": [
       "'Hello world!'"
      ]
     },
     "execution_count": 6,
     "metadata": {},
     "output_type": "execute_result"
    }
   ],
   "source": [
    "hello"
   ]
  },
  {
   "cell_type": "markdown",
   "metadata": {},
   "source": [
    "Makes sense! Variables can be used anywhere you want. Try to complete the following code block to print the value of the `hello` variable:"
   ]
  },
  {
   "cell_type": "code",
   "execution_count": 7,
   "metadata": {},
   "outputs": [
    {
     "name": "stdout",
     "output_type": "stream",
     "text": [
      "Hello world!\n"
     ]
    }
   ],
   "source": [
    "# insert what you think it is necessary inside the parenthesis ()\n",
    "print( hello )"
   ]
  },
  {
   "cell_type": "markdown",
   "metadata": {},
   "source": [
    "Wow! You now know what a variable is, and how to use it inside your code. Now let's see what happen if we use a variable that is not declared."
   ]
  },
  {
   "cell_type": "code",
   "execution_count": 8,
   "metadata": {},
   "outputs": [
    {
     "ename": "NameError",
     "evalue": "name 'invented_variable' is not defined",
     "output_type": "error",
     "traceback": [
      "\u001b[0;31m---------------------------------------------------------------------------\u001b[0m",
      "\u001b[0;31mNameError\u001b[0m                                 Traceback (most recent call last)",
      "Cell \u001b[0;32mIn[8], line 1\u001b[0m\n\u001b[0;32m----> 1\u001b[0m \u001b[38;5;28mprint\u001b[39m(\u001b[43minvented_variable\u001b[49m)\n",
      "\u001b[0;31mNameError\u001b[0m: name 'invented_variable' is not defined"
     ]
    }
   ],
   "source": [
    "print(invented_variable)"
   ]
  },
  {
   "cell_type": "markdown",
   "metadata": {},
   "source": [
    "The Python interpreter clearly says the variable is not defined, which also makes sense. `invented_variable` will exist only after we define it by assigning some value to it.\n",
    "\n",
    "> 💡 Key concept: **error**\n",
    ">\n",
    "> Python is an interpreted language. This means that the code will be read top to bottom, left to right. However, we need to be aware of how errors work in an interpreted language, as the interpreter does not read the full code.\n",
    ">\n",
    "> An interpreter first checks if the code makes sense (lexical, syntactical, and semantical analysis), but it will execute the line when it has to do so. If it finds an error, it will crash immediately, resulting in an **error message**.\n",
    ">\n",
    "> For example, if you try to use an entity of an unknown name, the error will be discovered when you were trying to use it, not when the name was introduced. It can be possible some part of your code was executed before the interpreter finds an error.\n",
    ">\n",
    "> Try to execute the following code:\n",
    ">\n",
    "> ```py\n",
    "> if False:\n",
    ">     print(this_variable_does_not_exist)\n",
    "> else:\n",
    ">     print('No error is displayed!')\n",
    "> ```"
   ]
  },
  {
   "cell_type": "markdown",
   "metadata": {},
   "source": [
    "## 4. A customized Hello World!"
   ]
  },
  {
   "cell_type": "markdown",
   "metadata": {},
   "source": [
    "> 💡 Key concept: **console input (the `input` function)**\n",
    ">\n",
    "> When you want to type things in the console and store them for later, there is the **console input**. In Python, you can read what the user types by using the `input` function. The function works like this:\n",
    ">\n",
    "> ```py\n",
    "> variable = input(message)\n",
    "> ```\n",
    ">\n",
    "> The value of `message` will be displayed in the console, and immediately afterwards the user will be able to type whatever they like. Typing `Enter` will cause whatever the user typed to be stored inside the `variable`."
   ]
  },
  {
   "cell_type": "code",
   "execution_count": 10,
   "metadata": {},
   "outputs": [
    {
     "name": "stdout",
     "output_type": "stream",
     "text": [
      "Tell me your name: Miguel\n"
     ]
    }
   ],
   "source": [
    "your_name = input('Tell me your name: ')"
   ]
  },
  {
   "cell_type": "code",
   "execution_count": 11,
   "metadata": {},
   "outputs": [
    {
     "data": {
      "text/plain": [
       "'Miguel'"
      ]
     },
     "execution_count": 11,
     "metadata": {},
     "output_type": "execute_result"
    }
   ],
   "source": [
    "your_name"
   ]
  },
  {
   "cell_type": "code",
   "execution_count": 12,
   "metadata": {},
   "outputs": [
    {
     "name": "stdout",
     "output_type": "stream",
     "text": [
      "Hello Miguel!\n"
     ]
    }
   ],
   "source": [
    "print('Hello ' + your_name + '!')"
   ]
  },
  {
   "cell_type": "code",
   "execution_count": 13,
   "metadata": {},
   "outputs": [
    {
     "name": "stdout",
     "output_type": "stream",
     "text": [
      "Hello Miguel!\n"
     ]
    }
   ],
   "source": [
    "print(f'Hello {your_name}!')"
   ]
  },
  {
   "cell_type": "code",
   "execution_count": 14,
   "metadata": {},
   "outputs": [
    {
     "name": "stdout",
     "output_type": "stream",
     "text": [
      "Tell me your name: Miguel\n",
      "Hello Miguel!\n"
     ]
    }
   ],
   "source": [
    "your_name = input('Tell me your name: ')\n",
    "print(f'Hello {your_name}!')"
   ]
  },
  {
   "cell_type": "markdown",
   "metadata": {},
   "source": [
    "## 5. [Bonus] Other ways of using Python"
   ]
  },
  {
   "cell_type": "code",
   "execution_count": null,
   "metadata": {},
   "outputs": [],
   "source": []
  }
 ],
 "metadata": {
  "kernelspec": {
   "display_name": "Python 3 (ipykernel)",
   "language": "python",
   "name": "python3"
  },
  "language_info": {
   "codemirror_mode": {
    "name": "ipython",
    "version": 3
   },
   "file_extension": ".py",
   "mimetype": "text/x-python",
   "name": "python",
   "nbconvert_exporter": "python",
   "pygments_lexer": "ipython3",
   "version": "3.11.2"
  }
 },
 "nbformat": 4,
 "nbformat_minor": 2
}
