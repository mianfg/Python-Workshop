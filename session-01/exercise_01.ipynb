{
 "cells": [
  {
   "cell_type": "markdown",
   "metadata": {},
   "source": [
    "![Header](https://raw.githubusercontent.com/mianfg/Python-Workshop/main/resources/exercise-01/00-header.png)\n",
    "\n",
    "> 🧑‍💻 Author: Miguel Ángel Fernández (<miguelaf@cisco.com>)\n",
    ">\n",
    "> Last update: March 28, 2023 (revision 2)\n",
    ">\n",
    "> _For any questions or comments, do not hesitate to contact us in the Webex space!_\n",
    "\n",
    "\n",
    "# Exercise 1 - Executing Python code in a Jupyter Notebook\n",
    "\n",
    "We are really excited that you showed up during the first session of our new Python workshop! This exercise will teach you how to install and use Jupyter Notebook to execute your very first Python scripts. Apart from this, you will learn some basic Python things that we will better understand in the following sessions.\n",
    "\n",
    "\n",
    "This is a long notebook, we know. However:\n",
    "\n",
    "* It is **organized** 🧹: you can use the following table of contents to go to where you need to go.\n",
    "* It is **collision-free** 🚫💥: each section is independent, so you can start executing the first block of code of each section without having to bother if you executed the previous code blocks.\n",
    "\n",
    "## What you will learn\n",
    "\n",
    "* Use Jupyter Notebook\n",
    "* Console I/O: `print`, `input`\n",
    "* Variable assignment\n",
    "* How errors can happen\n",
    "* Other ways of using Python!\n",
    "\n",
    "## Table of contents\n",
    "\n",
    "1. [Install Jupyter Notebook](#1.-Install-Jupyter-Notebook). Instructions to set up Jupyter Notebook\n",
    "2. [Jupyter Notebook basics](#2.-Jupyter-Notebook-basics). Get to know Jupyter Notebook\n",
    "3. [Hello World!](#3.-Hello-World!). Start coding with the classical _Hello World!_, and get familiar with printing messages on screen\n",
    "4. [A customized Hello World!](#4.-A-customized-Hello-World!). Know how to ask for console input, while customizing the previous program\n",
    "5. [**Bonus**] [Other ways of using Python](#5.-Other-ways-of-using-Python-(bonus))"
   ]
  },
  {
   "cell_type": "markdown",
   "metadata": {},
   "source": [
    "## 1. Install Jupyter Notebook\n",
    "\n",
    "First things first, let's talk about what a Jupyter **notebook** is, and how you can start using them.\n",
    "\n",
    "A notebook is a powerful tool to develop and present your Python code. It does not only allow you to write and run Python scripts: it allows you to show plots, tables, write long text, and much more! In short, it is a single document in which you can run code, display its output and add any explanation you like (including charts, equations, etc.).\n",
    "\n",
    "Jupyter Notebooks use the file extension `.ipynb` and yes, this is one of them!\n",
    "\n",
    "They are open source, and part of [Project Jupyter](https://jupyter.org/), which makes them completely free to use. Even though you can use other programming languages in Jupyter, we will focus on Python during this workshop.\n",
    "\n",
    "To start, you need to **install** Jupyter. Depending on your OS, you might need to follow different instructions.\n",
    "\n",
    "> 👨‍💻 **If you want to use vscode...**\n",
    ">\n",
    "> If you are a Visual Studio Code fan (like we are!), you should know you can use Jupyter Notebooks inside of vscode. To do so, proceed to install Python as it is shown here. Then, you will need to install an extension inside vscode. You can know more about how to do it [here](https://code.visualstudio.com/docs/python/python-tutorial).\n",
    "\n",
    "Click on your OS to skip to the tutorial you need to follow!\n",
    "\n",
    "* [Windows](#Install-Jupyter-Notebook-on-Windows)\n",
    "* [MacOS](#Install-Jupyter-Notebook-on-MacOS)\n",
    "\n",
    "### Install Jupyter Notebook on Windows\n",
    "\n",
    "First of all, let's check if you already have Python. For that, open **PowerShell** (or any terminal application) and type:\n",
    "\n",
    "```\n",
    "$ python --version\n",
    "```\n",
    "\n",
    "> ⚠️ **A word of warning**\n",
    ">\n",
    "> Do not include the `$` sign! This is to express it is where you type into the shell (or terminal). Just enter `python --version`. This also applies to the rest of the tutorial.\n",
    "\n",
    "\n",
    "If you see something similar to this, you already have Python installed. Please make sure your version of Python is **Python 3** (not Python 2!).\n",
    "\n",
    "```\n",
    "$ python --version\n",
    "Python 3.11.2\n",
    "```\n",
    "\n",
    "If you already have Python installed, skip to [step 2](#Step-W-2.-Install-Jupyter-Notebook).\n",
    "\n",
    "#### Step W-1. Install Python\n",
    "\n",
    "To install Python on your computer, go to the official Python page's [downloads section](https://www.python.org/downloads/) and click on the **Download Python** button. A file with the format `python-<version>-amd64.exe` will download. Install it by double-clicking on it.\n",
    "\n",
    "> ⚠️ **Very important!**\n",
    ">\n",
    "> It is **very important** that, on the install assistant, you check the **Add python.exe to PATH** checkbox.\n",
    "\n",
    "Then, test if you have Python installed. As we explained before, the result should be similar to this:\n",
    "\n",
    "```\n",
    "$ python --version\n",
    "Python 3.11.2\n",
    "```\n",
    "\n",
    "#### Step W-2. Install Jupyter Notebook\n",
    "\n",
    "To install Jupyter Notebook, just insert the following command:\n",
    "\n",
    "```\n",
    "$ python -m pip install jupyter\n",
    "```\n",
    "\n",
    "If everything goes well, you should see the `jupyter` package was correctly installed.\n",
    "\n",
    "#### Step W-3. Run Jupyter Notebook\n",
    "\n",
    "To run Jupyter Notebook, you simply have to type into the terminal:\n",
    "\n",
    "```\n",
    "$ jupyter notebook\n",
    "```\n",
    "\n",
    "or\n",
    "\n",
    "```\n",
    "$ python -m notebook\n",
    "```\n",
    "\n",
    "> ℹ️ **You might need to restart the terminal**\n",
    "> \n",
    "> It is possible this command does not work if you are in the same terminal session as when you installed `jupyter`. Try to restart the terminal application, and then type the command again.\n",
    "\n",
    "This command will open a new tab on your browser, with the Jupyter Notebook environment.\n",
    "\n",
    "### Install Jupyter Notebook on MacOS\n",
    "\n",
    "First of all, let's check if you already have Python. For that, open the **Terminal** application and type:\n",
    "\n",
    "```\n",
    "$ python3 --version\n",
    "```\n",
    "\n",
    "> ⚠️ **A word of warning**\n",
    ">\n",
    "> Do not include the `$` sign! This is to express it is where you type into the shell (or terminal). Just enter `python3 --version`. This also applies to the rest of the tutorial.\n",
    "\n",
    "If you see something similar to this, you already have Python installed. Please make sure your version of Python is **Python 3** (not Python 2!).\n",
    "\n",
    "```\n",
    "$ python3 --version\n",
    "Python 3.11.2\n",
    "```\n",
    "\n",
    "If you already have Python installed, skip to [step 2](#Step-M-2.-Install-Jupyter-Notebook).\n",
    "\n",
    "#### Step M-1. Install Python\n",
    "\n",
    "To install Python on your computer, go to the official Python page's [downloads section](https://www.python.org/downloads/) and click on the **Download Python** button. A file with the format `python-<version>-macosx.pkg` will download. Install it by double-clicking on it.\n",
    "\n",
    "Go through each of the prompts, with all the default settings. Then close and move the installer to the trash (you will not need it anymore!).\n",
    "\n",
    "Then, test if you have Python installed. As we explained before, the result should be similar to this:\n",
    "\n",
    "```\n",
    "$ python3 --version\n",
    "Python 3.11.2\n",
    "```\n",
    "\n",
    "#### Step M-2. Install Jupyter Notebook\n",
    "\n",
    "To install Jupyter Notebook, just insert the following command:\n",
    "\n",
    "```\n",
    "$ pip3 install jupyter\n",
    "```\n",
    "\n",
    "If everything goes well, you should see the `jupyter` package was correctly installed.\n",
    "\n",
    "#### Step M-3. Run Jupyter Notebook\n",
    "\n",
    "To run Jupyter Notebook, you simply have to type into the terminal:\n",
    "\n",
    "```\n",
    "$ jupyter notebook\n",
    "```\n",
    "\n",
    "> ℹ️ **You might need to restart the terminal**\n",
    ">\n",
    "> It is possible this command does not work if you are in the same terminal session as when you installed `jupyter`. Try to restart the terminal application, and then type the command again.\n",
    "\n",
    "This command will open a new tab on your browser, with the Jupyter Notebook environment."
   ]
  },
  {
   "cell_type": "markdown",
   "metadata": {},
   "source": [
    "## 2. Jupyter Notebook basics\n",
    "\n",
    "![Jupyter Toolbar](https://raw.githubusercontent.com/mianfg/Python-Workshop/main/resources/exercise-01/01-jupyter_toolbar.png)\n",
    "\n",
    "> 🛠️ **Know the toolbar**\n",
    ">\n",
    "> 1. **Save.** Saves the notebook.\n",
    "> 2. **Add block.** It adds a new block immediately after the one you are at.\n",
    "> 3. **Cut/Copy/Paste.** Cut/Copy/Paste the current block. The block is pasted after the one you are at.\n",
    "> 4. **Move block.** Moves current block up or down.\n",
    "> 5. **Run block.** Runs the current block.\n",
    "> 6. **Interrupt kernel.** Stops the kernel. This will pause any running jobs and wipe out any stored variables.\n",
    "> 7. **Restart kernel.** Interrupts and starts the kernel.\n",
    "> 8. **Restart kernel and rerun the whole notebook.** Performs a kernel restart, and executes every code block in the notebook sequentially.\n",
    "> 9. **Block type.** Enables you to see and change the block type of the current block.\n",
    "\n",
    "Once you open a notebook inside Jupyter, you will see something very similar to the image above: a toolbar that has everything you need to get started. Below, you will see the actual notebook.\n",
    "\n",
    "A notebook is composed of **blocks**. A block can be of two types:\n",
    "\n",
    "* A **code block** is a block of Python code, that can be executed.\n",
    "* A **Markdown block** is a block where you can write formatted text.\n",
    "\n",
    "To add a block, you can:\n",
    "\n",
    "1. Press the plus icon (<u>**2**</u>) in the toolbar. A block will be added after the one you are currently in (which is highlighted).\n",
    "2. Press `Shift`+`Enter` on the last block. The block will be executed or rendered (depending on the type), and a new block will be added at the end of the notebook.\n",
    "\n",
    "When you add a new block, it will be either of type _Code_ or _Markdown_. You can check which kind of block it is visually (code blocks have the `In [ ]:` prompt to the left), or using the dropdown (<u>**9**</u>). You can use this same dropdown to change the type of the current block (the one that is highlighted). You can also select the block by clicking **once** and press `Y` to turn it into a code block, and `M` to turn it into a Markdown block.\n",
    "\n",
    "To delete a block, you can:\n",
    "\n",
    "1. Click on Edit > Delete cells in the toolbar.\n",
    "2. Click on the block **once** and press `D` **twice**.\n",
    "\n",
    "Let's know more about these blocks!"
   ]
  },
  {
   "cell_type": "markdown",
   "metadata": {},
   "source": [
    "### Code blocks\n",
    "\n",
    "Let's start with code blocks. Code blocks are segments of Python code that can be executed. Each time a block is executed, its **state** will be saved, including variables, imports, and much more. In other words, code blocks are **dependent** on the order in which they are executed. Here are some examples of code blocks:\n",
    "\n",
    "![Code block](https://raw.githubusercontent.com/mianfg/Python-Workshop/main/resources/exercise-01/02-code_block.png)\n",
    "\n",
    "You can see code blocks always have `In [ ]:` to the left. To execute the code, simply click on Run (<u>**5**</u>) or use the shortcut `Shift`+`Enter`. The prompt `In [ ]:` will change and a sequence number will appear inside the brackets. This is useful, as it indicates whether the code block was executed, and in which order.\n",
    "\n",
    "Why don't you try? Execute the following code block:"
   ]
  },
  {
   "cell_type": "code",
   "execution_count": null,
   "metadata": {},
   "outputs": [],
   "source": [
    "print('This is the first code block I execute!')"
   ]
  },
  {
   "cell_type": "markdown",
   "metadata": {},
   "source": [
    "Amazing! As you can see, code blocks are a nice way to execute Python code.\n",
    "\n",
    "Let's try something else. Why don't we try to see what is stored on the `message` variable?"
   ]
  },
  {
   "cell_type": "code",
   "execution_count": null,
   "metadata": {},
   "outputs": [],
   "source": [
    "message"
   ]
  },
  {
   "cell_type": "markdown",
   "metadata": {},
   "source": [
    "If you have executed the blocks sequentially and have not resetted the kernel (see <u>**7**</u>), you should see an error, as the variable was not yet defined. Let's define this variable with the message you want."
   ]
  },
  {
   "cell_type": "code",
   "execution_count": null,
   "metadata": {},
   "outputs": [],
   "source": [
    "# type a message - remember it must be enclosed in quotation marks, like 'message' or \"message\"\n",
    "message = "
   ]
  },
  {
   "cell_type": "markdown",
   "metadata": {},
   "source": [
    "Now, if we try again, we should see no error."
   ]
  },
  {
   "cell_type": "code",
   "execution_count": null,
   "metadata": {},
   "outputs": [],
   "source": [
    "message"
   ]
  },
  {
   "cell_type": "markdown",
   "metadata": {},
   "source": [
    "### Markdown blocks\n",
    "\n",
    "On the other side, there are Markdown blocks. In this blocks, we can just type formatted text, using the Markdown syntax. You can check out any of the Markdown code of any of the Markdown blocks by double pressing them. It really is the best way to learn!\n",
    "\n",
    "**Markdown** is a practical, lightweight text formatting language that is used by software developers all around the world. The idea is that, instead of having to press any button to format your text, you can just use some characters to do so.\n",
    "\n",
    "For example, you can enclose text in `**` to show it in bold, or display a code block.\n",
    "\n",
    "Markdown really is simple, to learn it you just need to take a look at this [cheat sheet](https://www.markdownguide.org/cheat-sheet/)."
   ]
  },
  {
   "cell_type": "markdown",
   "metadata": {},
   "source": [
    "Now that we are familiar with Jupyter Notebook, let's start coding!"
   ]
  },
  {
   "cell_type": "markdown",
   "metadata": {},
   "source": [
    "## 3. Hello World!\n",
    "\n",
    "Let's start programming!\n",
    "\n",
    "When we start learning a new programming language, one basic thing we need to learn is how to display a message. In Python, this is done using the `print` function.\n",
    "\n",
    "> 🗝️ Key concept: **console output (the `print` function)**\n",
    "> \n",
    "> The `print` function has one mandatory argument: the text we want to display.\n",
    "\n",
    "Try inserting the message `Hello world!` inside the `print` statement (don't forget the quotation marks!). Then, execute the block of code."
   ]
  },
  {
   "cell_type": "code",
   "execution_count": null,
   "metadata": {},
   "outputs": [],
   "source": [
    "# our first hello to Python!\n",
    "print(  )"
   ]
  },
  {
   "cell_type": "markdown",
   "metadata": {},
   "source": [
    "You see what we did there? Executing the block showed the message you wanted to show. You can try replacing the message, and each time you execute the block the new message will be displayed in place of the previous one.\n",
    "\n",
    "Also, you can see that we have one line that the interpreter did not care much about. Lines starting with `#` are **comments**, and ignored by the Python interpreter.\n",
    "\n",
    "> 🗝️ Key concept: **comments**\n",
    ">\n",
    "> Every programming language enables you to comment your code. In Python, you can have single-line or multi-line comments:\n",
    "> - Single-line comments are lines of your code that start with `#`.\n",
    "> - If you want your comments to be several lines in length, you have to enclose them in `\"\"\"`.\n",
    "\n",
    "It is really important that you comment your code so you know what it does."
   ]
  },
  {
   "cell_type": "markdown",
   "metadata": {},
   "source": [
    "Now, let's try something new. We can try displaying the value of a **variable**. In programs, variables are used to store values.\n",
    "\n",
    "> 🗝️ Key concept: **variables**\n",
    ">\n",
    "> Variables are the names you give to computer memory locations which are used to store values in a computer program. In Python, you declare a variable by assigning a value to it using the assignment operator (`=`).\n",
    ">\n",
    "> Python's style guide recommends to write the variable names in [`snake_case`](https://en.wikipedia.org/wiki/Snake_case).\n",
    "\n",
    "Let's create a new variable, called `hello`, and assign a value to it: our hello world message. Execute the following block:"
   ]
  },
  {
   "cell_type": "code",
   "execution_count": null,
   "metadata": {},
   "outputs": [],
   "source": [
    "hello = 'Hello world!'"
   ]
  },
  {
   "cell_type": "markdown",
   "metadata": {},
   "source": [
    "This block should have returned nothing. However, we now have our `hello` variable declared. You can see what is inside a variable by simply typing its name in a code block and executing it:"
   ]
  },
  {
   "cell_type": "code",
   "execution_count": null,
   "metadata": {},
   "outputs": [],
   "source": [
    "hello"
   ]
  },
  {
   "cell_type": "markdown",
   "metadata": {},
   "source": [
    "Makes sense! Variables can be used anywhere you want. Try to complete the following code block to print the value of the `hello` variable:"
   ]
  },
  {
   "cell_type": "code",
   "execution_count": null,
   "metadata": {},
   "outputs": [],
   "source": [
    "# insert what you think it is necessary inside the parenthesis ()\n",
    "print(  )"
   ]
  },
  {
   "cell_type": "markdown",
   "metadata": {},
   "source": [
    "Wow! You now know what a variable is, and how to use it inside your code. Now let's see what happen if we use a variable that is not declared."
   ]
  },
  {
   "cell_type": "code",
   "execution_count": null,
   "metadata": {},
   "outputs": [],
   "source": [
    "print(invented_variable)"
   ]
  },
  {
   "cell_type": "markdown",
   "metadata": {},
   "source": [
    "The Python interpreter clearly says the variable is not defined, which also makes sense. `invented_variable` will exist only after we define it by assigning some value to it.\n",
    "\n",
    "> 🗝️ Key concept: **error**\n",
    ">\n",
    "> Python is an interpreted language. This means that the code will be read top to bottom, left to right. However, we need to be aware of how errors work in an interpreted language, as the interpreter does not read the full code.\n",
    ">\n",
    "> An interpreter first checks if the code makes sense (lexical, syntactical, and semantical analysis), but it will execute the line when it has to do so. If it finds an error, it will crash immediately, resulting in an **error message**.\n",
    ">\n",
    "> For example, if you try to use an entity of an unknown name, the error will be discovered when you were trying to use it, not when the name was introduced. It can be possible some part of your code was executed before the interpreter finds an error.\n",
    ">\n",
    "> Try to execute the following code:\n",
    ">\n",
    "> ```py\n",
    "> if False:\n",
    ">     print(this_variable_does_not_exist)\n",
    "> else:\n",
    ">     print('No error is displayed!')\n",
    "> ```"
   ]
  },
  {
   "cell_type": "markdown",
   "metadata": {},
   "source": [
    "There is one more important thing you should know about `print` and Jupyter Notebook. You might think why we use `print` anyways, if we can show the variable by just putting its name in a code block and executing it.\n",
    "\n",
    "Execute this block:"
   ]
  },
  {
   "cell_type": "code",
   "execution_count": null,
   "metadata": {},
   "outputs": [],
   "source": [
    "print(hello)"
   ]
  },
  {
   "cell_type": "markdown",
   "metadata": {},
   "source": [
    "As you can see, the content of the variable `hello` is printed on the screen. We use `print` in the context of console output. The `print` function is also valid outside of Jupyter Notebook.\n",
    "\n",
    "Now try executing this block:"
   ]
  },
  {
   "cell_type": "code",
   "execution_count": null,
   "metadata": {},
   "outputs": [],
   "source": [
    "hello"
   ]
  },
  {
   "cell_type": "markdown",
   "metadata": {},
   "source": [
    "As you can see, the result is not exactly the same: the output is enclosed in quotation marks (`'`). This is because we are not printing the value of the variable, but showing which variable it is. The quotation marks tell us this variable is a **string** (we will know more about this in the next session).\n",
    "\n",
    "In a normal Python script, having a variable name in one line will not do a single thing. In Jupyter Notebook and a Python [interactive session](#Interactive-session), executing a single line with the variable name on it will show its value."
   ]
  },
  {
   "cell_type": "markdown",
   "metadata": {},
   "source": [
    "## 4. A customized Hello World!\n",
    "\n",
    "Now, this is all really interesting but the previous message does not seem really... customized. Let's try to make it a bit more personal, and learn more things on the way.\n",
    "\n",
    "For that, we will have to learn about the `input` function, built into the Python interpreter.\n",
    "\n",
    "> 🗝️ Key concept: **console input (the `input` function)**\n",
    ">\n",
    "> When you want to type things in the console and store them for later, there is the **console input**. In Python, you can read what the user types by using the `input` function. The function works like this:\n",
    ">\n",
    "> ```py\n",
    "> variable = input(message)\n",
    "> ```\n",
    ">\n",
    "> The value of `message` will be displayed in the console, and immediately afterwards the user will be able to type whatever they like. Typing `Enter` will cause whatever the user typed to be stored inside the `variable`.\n",
    "\n",
    "Let's try it out: execute the following block of code. Type your name and press `Enter`."
   ]
  },
  {
   "cell_type": "code",
   "execution_count": null,
   "metadata": {},
   "outputs": [],
   "source": [
    "your_name = input('Tell me your name: ')"
   ]
  },
  {
   "cell_type": "markdown",
   "metadata": {},
   "source": [
    "Let's see if Python now knows your name:"
   ]
  },
  {
   "cell_type": "code",
   "execution_count": null,
   "metadata": {},
   "outputs": [],
   "source": [
    "your_name"
   ]
  },
  {
   "cell_type": "markdown",
   "metadata": {},
   "source": [
    "It does! Now, to really customize the Hello World message, you should know that, as well as the `+` operator is used to sum numbers, it can also be used to concatenate strings. Try executing this:"
   ]
  },
  {
   "cell_type": "code",
   "execution_count": null,
   "metadata": {},
   "outputs": [],
   "source": [
    "print('Hello ' + your_name + '!')"
   ]
  },
  {
   "cell_type": "markdown",
   "metadata": {},
   "source": [
    "As you can see, the three strings, `'Hello '`, `your_name` and `'!'` have been concatenated using `+` into a single string, that you have then later printed out using the `print` function. We could have also assigned the variable and printed it out."
   ]
  },
  {
   "cell_type": "code",
   "execution_count": null,
   "metadata": {},
   "outputs": [],
   "source": [
    "hello_name = 'Hello ' + your_name + '!'\n",
    "print(hello_name)"
   ]
  },
  {
   "cell_type": "markdown",
   "metadata": {},
   "source": [
    "As you can see, the result is the exact same. And talking about same, there is a more practical way to do what we just did. Instead of concatenating, we can just **inject** variables into strings using **f-strings**.\n",
    "\n",
    "\n",
    "> 🗝️ Key concept: **f-strings**\n",
    ">\n",
    "> In Python 3, there is an improved way to insert values into strings. You can just declare a string with an `f` before the quotation marks, and use `{}` inside the string to inject those variables. For example:\n",
    ">\n",
    "> ```py\n",
    "> f'My name is {name}, nice to meet you!'\n",
    "> ```\n",
    "\n",
    "Try to repeat the previous message using f-strings."
   ]
  },
  {
   "cell_type": "code",
   "execution_count": null,
   "metadata": {},
   "outputs": [],
   "source": [
    "hello_name =   # <- insert an f-string here\n",
    "print(hello_name)"
   ]
  },
  {
   "cell_type": "markdown",
   "metadata": {},
   "source": [
    "Now, let's put everything together. Try to emulate the following:\n",
    "\n",
    "First, the console will say:\n",
    "\n",
    "```\n",
    "What is your name? |\n",
    "```\n",
    "\n",
    "You can type your name:\n",
    "\n",
    "```\n",
    "What is your name? Cisco|\n",
    "```\n",
    "\n",
    "And after pressing `Enter`, the following message will appear:\n",
    "\n",
    "```\n",
    "Hello World, Cisco!\n",
    "```\n",
    "\n",
    "Try it for yourself here:"
   ]
  },
  {
   "cell_type": "code",
   "execution_count": null,
   "metadata": {},
   "outputs": [],
   "source": [
    "# write the code in this block!\n"
   ]
  },
  {
   "cell_type": "markdown",
   "metadata": {},
   "source": [
    "---\n",
    "\n",
    "Congratulations! You now know how to:\n",
    "\n",
    "* Use Jupyter Notebook\n",
    "* Work with the console I/O built-in functions: `print`, `input`\n",
    "* Assign variables\n",
    "* Check name errors (undefined variables)\n",
    "\n",
    "Check the following bonus section to know other ways you can use Python."
   ]
  },
  {
   "cell_type": "markdown",
   "metadata": {},
   "source": [
    "## 5. Other ways of using Python (<u>bonus</u>)"
   ]
  },
  {
   "cell_type": "markdown",
   "metadata": {},
   "source": [
    "As we showed in the presentation, there are two other main ways of using Python (of course, there are [waaay more](https://realpython.com/run-python-scripts/#how-to-run-python-scripts-using-the-command-line)):\n",
    "\n",
    "### Interactive session\n",
    "\n",
    "You can execute Python scripts line by line using the Python interpreter on the command line (really similar to how we execute things in notebooks, but with less functionality).\n",
    "\n",
    "To do so, simply type into your preferred terminal application:\n",
    "\n",
    "```\n",
    "$ python\n",
    "```\n",
    "\n",
    "or\n",
    "\n",
    "```\n",
    "$ python3\n",
    "```\n",
    "\n",
    "You will now be able to type Python commands directly:\n",
    "\n",
    "```\n",
    "$ python\n",
    "Python 3.11.2 (main, Feb 16 2023, 02:55:59) [Clang 14.0.0 (clang-1400.0.29.202)] on darwin\n",
    "Type \"help\", \"copyright\", \"credits\" or \"license\" for more information.\n",
    ">>> |\n",
    "```\n",
    "\n",
    "You can type whatever Python code you want, line by line. Here's an example:\n",
    "\n",
    "```\n",
    "$ python\n",
    "Python 3.11.2 (main, Feb 16 2023, 02:55:59) [Clang 14.0.0 (clang-1400.0.29.202)] on darwin\n",
    "Type \"help\", \"copyright\", \"credits\" or \"license\" for more information.\n",
    ">>> hello = 'This is again a Hello World, in an interactive session'\n",
    ">>> hello\n",
    "'This is again a Hello World, in an interactive session'\n",
    ">>> hello + ' - This feels familiar, right?'\n",
    "'This is again a Hello World, in an interactive session - This feels familiar, right?'\n",
    ">>> hello\n",
    "'This is again a Hello World, in an interactive session'\n",
    ">>> 2+2\n",
    "4\n",
    ">>> import math\n",
    ">>> math.cos(34)\n",
    "-0.8485702747846052\n",
    ">>> |\n",
    "```\n",
    "\n",
    "As you can see, the Python interactive session will execute things line by line (it is an interpreter!), as Jupyter Notebook does. However, you cannot save these sessions nor insert text as easily as you can do here.\n",
    "\n",
    "### Execute source code\n",
    "\n",
    "This is the most standard way to execute Python code, and it is closer to the way real applications running in Python work. As we talked about in the session, there is a way that we can run a **source code** file.\n",
    "\n",
    "Let's learn by doing, as always. Create a file `hello_reverse.py` with these contents:\n",
    "\n",
    "```py\n",
    "name = input(\"Tell me your name: \")\n",
    "name\n",
    "print(f\"You just entered the reverse world. Welcome, {name[::-1]}!\")\n",
    "```\n",
    "\n",
    "To execute this file, simply run the following command in your terminal:\n",
    "\n",
    "```\n",
    "$ python hello_reverse.py\n",
    "```\n",
    "\n",
    "or\n",
    "\n",
    "```\n",
    "$ python3 hello_reverse.py\n",
    "```\n",
    "\n",
    "> ⚠️ **You might need to be familiar with the terminal...**\n",
    ">\n",
    "> To execute a file, your terminal needs to know where it is. If you are not familiar with navigating folders in your terminal, try to enter the full path to the file instead of just `hello_reverse.py`. Knowing why and how to use this precisely is out of the scope of our workshop, but if you would like to know more about this, you can ask in the Webex room or use this reference:\n",
    ">\n",
    "> * [zshell](https://academind.com/tutorials/terminal-zsh-basics) (MacOS)\n",
    "> * [PowerShell](https://learn.microsoft.com/en-us/powershell/scripting/samples/managing-current-location) (Windows)\n",
    "\n",
    "The result of executing this script will not surprise you:\n",
    "\n",
    "```\n",
    "$ python3 hello_reverse.py\n",
    "Tell me your name: Cisco\n",
    "You just entered the reverse world. Welcome, ocsiC!\n",
    "```\n",
    "\n",
    "However, take into account the fact that, the second line of our source code is:\n",
    "\n",
    "```py\n",
    "name\n",
    "```\n",
    "\n",
    "In Jupyter Notebook, this line would have shown the variable. However, when executing Python scripts the only way to show things in the console is by using the `print` function. You can safely remove that line: the script will do the exact same thing without it."
   ]
  }
 ],
 "metadata": {
  "kernelspec": {
   "display_name": "Python 3 (ipykernel)",
   "language": "python",
   "name": "python3"
  },
  "language_info": {
   "codemirror_mode": {
    "name": "ipython",
    "version": 3
   },
   "file_extension": ".py",
   "mimetype": "text/x-python",
   "name": "python",
   "nbconvert_exporter": "python",
   "pygments_lexer": "ipython3",
   "version": "3.11.2"
  }
 },
 "nbformat": 4,
 "nbformat_minor": 2
}
